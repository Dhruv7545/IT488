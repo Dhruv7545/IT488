{
  "nbformat": 4,
  "nbformat_minor": 0,
  "metadata": {
    "colab": {
      "provenance": []
    },
    "kernelspec": {
      "name": "python3",
      "display_name": "Python 3"
    },
    "language_info": {
      "name": "python"
    }
  },
  "cells": [
    {
      "cell_type": "markdown",
      "source": [
        "# **C4.5 on Spark**"
      ],
      "metadata": {
        "id": "bE3rwHeq-heg"
      }
    },
    {
      "cell_type": "code",
      "source": [
        "!pip install pyspark"
      ],
      "metadata": {
        "colab": {
          "base_uri": "https://localhost:8080/"
        },
        "id": "z104eSxV5-Pr",
        "outputId": "fec54a66-0e03-44d1-f405-20c65beeeb5c"
      },
      "execution_count": 31,
      "outputs": [
        {
          "output_type": "stream",
          "name": "stdout",
          "text": [
            "Looking in indexes: https://pypi.org/simple, https://us-python.pkg.dev/colab-wheels/public/simple/\n",
            "Requirement already satisfied: pyspark in /usr/local/lib/python3.8/dist-packages (3.3.1)\n",
            "Requirement already satisfied: py4j==0.10.9.5 in /usr/local/lib/python3.8/dist-packages (from pyspark) (0.10.9.5)\n"
          ]
        }
      ]
    },
    {
      "cell_type": "code",
      "source": [
        "from google.colab import drive\n",
        "drive.mount(\"/content/gdrive\")"
      ],
      "metadata": {
        "colab": {
          "base_uri": "https://localhost:8080/"
        },
        "id": "smoTMF_O--Md",
        "outputId": "e48e8bcd-7e63-473b-e523-fad117d457ed"
      },
      "execution_count": 32,
      "outputs": [
        {
          "output_type": "stream",
          "name": "stdout",
          "text": [
            "Drive already mounted at /content/gdrive; to attempt to forcibly remount, call drive.mount(\"/content/gdrive\", force_remount=True).\n"
          ]
        }
      ]
    },
    {
      "cell_type": "code",
      "source": [
        "from pyspark.ml.feature import StringIndexer, OneHotEncoder, VectorAssembler\n",
        "from pyspark.ml import Pipeline\n",
        "import time"
      ],
      "metadata": {
        "id": "Qqh7zuay7D13"
      },
      "execution_count": 33,
      "outputs": []
    },
    {
      "cell_type": "code",
      "execution_count": 58,
      "metadata": {
        "id": "8pEdZoIB55Dr",
        "colab": {
          "base_uri": "https://localhost:8080/",
          "height": 259
        },
        "outputId": "36da5c38-65d7-42db-9df5-7026514d00e5"
      },
      "outputs": [
        {
          "output_type": "error",
          "ename": "ValueError",
          "evalue": "ignored",
          "traceback": [
            "\u001b[0;31m---------------------------------------------------------------------------\u001b[0m",
            "\u001b[0;31mValueError\u001b[0m                                Traceback (most recent call last)",
            "\u001b[0;32m<ipython-input-58-e4e042ea3109>\u001b[0m in \u001b[0;36m<module>\u001b[0;34m\u001b[0m\n\u001b[1;32m      1\u001b[0m \u001b[0;32mfrom\u001b[0m \u001b[0mpyspark\u001b[0m \u001b[0;32mimport\u001b[0m \u001b[0mSparkContext\u001b[0m\u001b[0;34m\u001b[0m\u001b[0;34m\u001b[0m\u001b[0m\n\u001b[0;32m----> 2\u001b[0;31m \u001b[0msc\u001b[0m \u001b[0;34m=\u001b[0m \u001b[0mSparkContext\u001b[0m\u001b[0;34m(\u001b[0m\u001b[0mmaster\u001b[0m \u001b[0;34m=\u001b[0m \u001b[0;34m'local'\u001b[0m\u001b[0;34m)\u001b[0m\u001b[0;34m\u001b[0m\u001b[0;34m\u001b[0m\u001b[0m\n\u001b[0m\u001b[1;32m      3\u001b[0m \u001b[0;34m\u001b[0m\u001b[0m\n\u001b[1;32m      4\u001b[0m \u001b[0;32mfrom\u001b[0m \u001b[0mpyspark\u001b[0m\u001b[0;34m.\u001b[0m\u001b[0msql\u001b[0m \u001b[0;32mimport\u001b[0m \u001b[0mSparkSession\u001b[0m\u001b[0;34m\u001b[0m\u001b[0;34m\u001b[0m\u001b[0m\n\u001b[1;32m      5\u001b[0m \u001b[0mspark\u001b[0m \u001b[0;34m=\u001b[0m \u001b[0mSparkSession\u001b[0m\u001b[0;34m.\u001b[0m\u001b[0mbuilder\u001b[0m\u001b[0;34m.\u001b[0m\u001b[0mappName\u001b[0m\u001b[0;34m(\u001b[0m\u001b[0;34m\"Spark Example\"\u001b[0m\u001b[0;34m)\u001b[0m\u001b[0;34m.\u001b[0m\u001b[0mconfig\u001b[0m\u001b[0;34m(\u001b[0m\u001b[0;34m\"spark.some.config.option\"\u001b[0m\u001b[0;34m)\u001b[0m\u001b[0;34m.\u001b[0m\u001b[0mgetOrCreate\u001b[0m\u001b[0;34m(\u001b[0m\u001b[0;34m)\u001b[0m\u001b[0;34m\u001b[0m\u001b[0;34m\u001b[0m\u001b[0m\n",
            "\u001b[0;32m/usr/local/lib/python3.8/dist-packages/pyspark/context.py\u001b[0m in \u001b[0;36m__init__\u001b[0;34m(self, master, appName, sparkHome, pyFiles, environment, batchSize, serializer, conf, gateway, jsc, profiler_cls, udf_profiler_cls)\u001b[0m\n\u001b[1;32m    193\u001b[0m             )\n\u001b[1;32m    194\u001b[0m \u001b[0;34m\u001b[0m\u001b[0m\n\u001b[0;32m--> 195\u001b[0;31m         \u001b[0mSparkContext\u001b[0m\u001b[0;34m.\u001b[0m\u001b[0m_ensure_initialized\u001b[0m\u001b[0;34m(\u001b[0m\u001b[0mself\u001b[0m\u001b[0;34m,\u001b[0m \u001b[0mgateway\u001b[0m\u001b[0;34m=\u001b[0m\u001b[0mgateway\u001b[0m\u001b[0;34m,\u001b[0m \u001b[0mconf\u001b[0m\u001b[0;34m=\u001b[0m\u001b[0mconf\u001b[0m\u001b[0;34m)\u001b[0m\u001b[0;34m\u001b[0m\u001b[0;34m\u001b[0m\u001b[0m\n\u001b[0m\u001b[1;32m    196\u001b[0m         \u001b[0;32mtry\u001b[0m\u001b[0;34m:\u001b[0m\u001b[0;34m\u001b[0m\u001b[0;34m\u001b[0m\u001b[0m\n\u001b[1;32m    197\u001b[0m             self._do_init(\n",
            "\u001b[0;32m/usr/local/lib/python3.8/dist-packages/pyspark/context.py\u001b[0m in \u001b[0;36m_ensure_initialized\u001b[0;34m(cls, instance, gateway, conf)\u001b[0m\n\u001b[1;32m    428\u001b[0m \u001b[0;34m\u001b[0m\u001b[0m\n\u001b[1;32m    429\u001b[0m                     \u001b[0;31m# Raise error if there is already a running Spark context\u001b[0m\u001b[0;34m\u001b[0m\u001b[0;34m\u001b[0m\u001b[0;34m\u001b[0m\u001b[0m\n\u001b[0;32m--> 430\u001b[0;31m                     raise ValueError(\n\u001b[0m\u001b[1;32m    431\u001b[0m                         \u001b[0;34m\"Cannot run multiple SparkContexts at once; \"\u001b[0m\u001b[0;34m\u001b[0m\u001b[0;34m\u001b[0m\u001b[0m\n\u001b[1;32m    432\u001b[0m                         \u001b[0;34m\"existing SparkContext(app=%s, master=%s)\"\u001b[0m\u001b[0;34m\u001b[0m\u001b[0;34m\u001b[0m\u001b[0m\n",
            "\u001b[0;31mValueError\u001b[0m: Cannot run multiple SparkContexts at once; existing SparkContext(app=pyspark-shell, master=local) created by __init__ at <ipython-input-4-ec3ebd35ad49>:2 "
          ]
        }
      ],
      "source": [
        "from pyspark import SparkContext\n",
        "sc = SparkContext(master = 'local')\n",
        "\n",
        "from pyspark.sql import SparkSession\n",
        "spark = SparkSession.builder.appName(\"Spark Example\").config(\"spark.some.config.option\").getOrCreate()"
      ]
    },
    {
      "cell_type": "code",
      "source": [
        "data = spark.read.csv('/content/gdrive/My Drive/IT488/lymph.csv', header=True, inferSchema=True)"
      ],
      "metadata": {
        "id": "_dU3APwP59Yv"
      },
      "execution_count": 59,
      "outputs": []
    },
    {
      "cell_type": "code",
      "source": [
        "data.show(5)"
      ],
      "metadata": {
        "colab": {
          "base_uri": "https://localhost:8080/"
        },
        "id": "8w1Cf5ul59a-",
        "outputId": "6d6f030c-72fd-4c91-d172-f3416ca53d00"
      },
      "execution_count": 60,
      "outputs": [
        {
          "output_type": "stream",
          "name": "stdout",
          "text": [
            "+----------+---------------+-------------+-------------+-------+------------+---------------+---------------+---------------+---------------+--------------+--------------+---------------+---------------+-------------+--------------+---------------+--------------+------------+\n",
            "|lymphatics|block_of_affere|bl_of_lymph_c|bl_of_lymph_s|by_pass|extravasates|regeneration_of|early_uptake_in|lym_nodes_dimin|lym_nodes_enlar|changes_in_lym|defect_in_node|changes_in_node|changes_in_stru|special_forms|dislocation_of|exclusion_of_no|no_of_nodes_in|       class|\n",
            "+----------+---------------+-------------+-------------+-------+------------+---------------+---------------+---------------+---------------+--------------+--------------+---------------+---------------+-------------+--------------+---------------+--------------+------------+\n",
            "|    arched|            yes|           no|           no|     no|          no|             no|            yes|              1|              4|         round|   lac_central|        lacunar|       stripped|     vesicles|           yes|            yes|             5|malign_lymph|\n",
            "| displaced|            yes|           no|           no|    yes|         yes|             no|            yes|              1|              3|         round|   lac_central|        lacunar|        diluted|     vesicles|           yes|            yes|             3|malign_lymph|\n",
            "|  deformed|             no|           no|           no|    yes|         yes|            yes|             no|              3|              1|          bean|       lacunar|             no|        diluted|     vesicles|            no|             no|             7|    fibrosis|\n",
            "|    arched|             no|           no|           no|     no|         yes|             no|            yes|              1|              2|          oval|    lac_margin|     lac_margin|      drop_like|     vesicles|            no|            yes|             1|malign_lymph|\n",
            "|    arched|             no|           no|           no|     no|          no|             no|             no|              1|              2|         round|    lac_margin|     lac_margin|          faint|     vesicles|            no|             no|             1|  metastases|\n",
            "+----------+---------------+-------------+-------------+-------+------------+---------------+---------------+---------------+---------------+--------------+--------------+---------------+---------------+-------------+--------------+---------------+--------------+------------+\n",
            "only showing top 5 rows\n",
            "\n"
          ]
        }
      ]
    },
    {
      "cell_type": "code",
      "source": [
        "index = [0,1,2,3,4,5,6,7,8,9,10]\n",
        "\n",
        "categorical_columns = [data.columns[i] for i in index]"
      ],
      "metadata": {
        "id": "OxuRUJcp59dl"
      },
      "execution_count": 63,
      "outputs": []
    },
    {
      "cell_type": "code",
      "source": [
        "stringindexer_stages = [StringIndexer(inputCol=c, outputCol='strindexed_' + c) for c in categorical_columns]\n",
        "# encode label column and add it to stringindexer_stages\n",
        "stringindexer_stages += [StringIndexer(inputCol='class', outputCol='label')]"
      ],
      "metadata": {
        "id": "n9Np0Zx363cQ"
      },
      "execution_count": 64,
      "outputs": []
    },
    {
      "cell_type": "code",
      "source": [
        "onehotencoder_stages = [OneHotEncoder(inputCol='strindexed_' + c, outputCol='onehot_' + c) for c in categorical_columns]"
      ],
      "metadata": {
        "id": "l7BmF6zx7H1i"
      },
      "execution_count": 65,
      "outputs": []
    },
    {
      "cell_type": "code",
      "source": [
        "feature_columns = ['onehot_' + c for c in categorical_columns]\n",
        "vectorassembler_stage = VectorAssembler(inputCols=feature_columns, outputCol='features')"
      ],
      "metadata": {
        "id": "KrTlnEsH7KZp"
      },
      "execution_count": 67,
      "outputs": []
    },
    {
      "cell_type": "code",
      "source": [
        "all_stages = stringindexer_stages + onehotencoder_stages + [vectorassembler_stage]\n",
        "pipeline = Pipeline(stages=all_stages)"
      ],
      "metadata": {
        "id": "SCRwuw2_7NOC"
      },
      "execution_count": 68,
      "outputs": []
    },
    {
      "cell_type": "code",
      "source": [
        "pipeline_model = pipeline.fit(data)"
      ],
      "metadata": {
        "id": "FLXqJIDw7QxM"
      },
      "execution_count": 69,
      "outputs": []
    },
    {
      "cell_type": "code",
      "source": [
        "final_columns = feature_columns + ['features', 'label']\n",
        "data_df = pipeline_model.transform(data).select(final_columns)\n",
        "            \n",
        "data_df.show(5)"
      ],
      "metadata": {
        "colab": {
          "base_uri": "https://localhost:8080/"
        },
        "id": "r766mXEL7Von",
        "outputId": "24d93c8e-cce0-45dc-e978-2c5c0f20ee94"
      },
      "execution_count": 70,
      "outputs": [
        {
          "output_type": "stream",
          "name": "stdout",
          "text": [
            "+-----------------+----------------------+--------------------+--------------------+--------------+-------------------+----------------------+----------------------+----------------------+----------------------+---------------------+--------------------+-----+\n",
            "|onehot_lymphatics|onehot_block_of_affere|onehot_bl_of_lymph_c|onehot_bl_of_lymph_s|onehot_by_pass|onehot_extravasates|onehot_regeneration_of|onehot_early_uptake_in|onehot_lym_nodes_dimin|onehot_lym_nodes_enlar|onehot_changes_in_lym|            features|label|\n",
            "+-----------------+----------------------+--------------------+--------------------+--------------+-------------------+----------------------+----------------------+----------------------+----------------------+---------------------+--------------------+-----+\n",
            "|    (2,[0],[1.0])|         (1,[0],[1.0])|       (1,[0],[1.0])|       (1,[0],[1.0])| (1,[0],[1.0])|          (1,[],[])|         (1,[0],[1.0])|         (1,[0],[1.0])|         (2,[0],[1.0])|         (3,[2],[1.0])|        (2,[1],[1.0])|[1.0,0.0,1.0,1.0,...|  1.0|\n",
            "|        (2,[],[])|         (1,[0],[1.0])|       (1,[0],[1.0])|       (1,[0],[1.0])|     (1,[],[])|      (1,[0],[1.0])|         (1,[0],[1.0])|         (1,[0],[1.0])|         (2,[0],[1.0])|         (3,[1],[1.0])|        (2,[1],[1.0])|(16,[2,3,4,6,7,8,...|  1.0|\n",
            "|    (2,[1],[1.0])|             (1,[],[])|       (1,[0],[1.0])|       (1,[0],[1.0])|     (1,[],[])|      (1,[0],[1.0])|             (1,[],[])|             (1,[],[])|             (2,[],[])|             (3,[],[])|            (2,[],[])|(16,[1,3,4,6],[1....|  2.0|\n",
            "|    (2,[0],[1.0])|             (1,[],[])|       (1,[0],[1.0])|       (1,[0],[1.0])| (1,[0],[1.0])|      (1,[0],[1.0])|         (1,[0],[1.0])|         (1,[0],[1.0])|         (2,[0],[1.0])|         (3,[0],[1.0])|        (2,[0],[1.0])|[1.0,0.0,0.0,1.0,...|  1.0|\n",
            "|    (2,[0],[1.0])|             (1,[],[])|       (1,[0],[1.0])|       (1,[0],[1.0])| (1,[0],[1.0])|          (1,[],[])|         (1,[0],[1.0])|             (1,[],[])|         (2,[0],[1.0])|         (3,[0],[1.0])|        (2,[1],[1.0])|(16,[0,3,4,5,7,9,...|  0.0|\n",
            "+-----------------+----------------------+--------------------+--------------------+--------------+-------------------+----------------------+----------------------+----------------------+----------------------+---------------------+--------------------+-----+\n",
            "only showing top 5 rows\n",
            "\n"
          ]
        }
      ]
    },
    {
      "cell_type": "code",
      "source": [
        "training, test = data_df.randomSplit([0.7, 0.3], seed=2000)"
      ],
      "metadata": {
        "id": "jH0g_Rm-7dPS"
      },
      "execution_count": 71,
      "outputs": []
    },
    {
      "cell_type": "code",
      "source": [
        "from pyspark.ml.regression import GeneralizedLinearRegression\n",
        "from pyspark.ml.classification import LogisticRegression, DecisionTreeClassifier\n",
        "\n",
        "dt = DecisionTreeClassifier(featuresCol='features', labelCol='label')"
      ],
      "metadata": {
        "id": "IPpxaRLm7vi9"
      },
      "execution_count": 73,
      "outputs": []
    },
    {
      "cell_type": "code",
      "source": [
        "st_time = time.time()\n",
        "dtc = dt.fit(training)\n",
        "pred = dtc.transform(test)\n",
        "ed_time = time.time()\n",
        "print(ed_time-st_time)\n",
        "pred.show(3)"
      ],
      "metadata": {
        "id": "U7qX38Zh8w9k",
        "colab": {
          "base_uri": "https://localhost:8080/"
        },
        "outputId": "15ef1c8f-ffd7-459b-f50b-c64600f5aca5"
      },
      "execution_count": 75,
      "outputs": [
        {
          "output_type": "stream",
          "name": "stdout",
          "text": [
            "1.6835670471191406\n",
            "+-----------------+----------------------+--------------------+--------------------+--------------+-------------------+----------------------+----------------------+----------------------+----------------------+---------------------+--------------------+-----+-------------+--------------------+----------+\n",
            "|onehot_lymphatics|onehot_block_of_affere|onehot_bl_of_lymph_c|onehot_bl_of_lymph_s|onehot_by_pass|onehot_extravasates|onehot_regeneration_of|onehot_early_uptake_in|onehot_lym_nodes_dimin|onehot_lym_nodes_enlar|onehot_changes_in_lym|            features|label|rawPrediction|         probability|prediction|\n",
            "+-----------------+----------------------+--------------------+--------------------+--------------+-------------------+----------------------+----------------------+----------------------+----------------------+---------------------+--------------------+-----+-------------+--------------------+----------+\n",
            "|        (2,[],[])|         (1,[0],[1.0])|           (1,[],[])|       (1,[0],[1.0])|     (1,[],[])|      (1,[0],[1.0])|         (1,[0],[1.0])|         (1,[0],[1.0])|         (2,[0],[1.0])|         (3,[1],[1.0])|        (2,[1],[1.0])|(16,[2,4,6,7,8,9,...|  0.0|[1.0,0.0,0.0]|       [1.0,0.0,0.0]|       0.0|\n",
            "|        (2,[],[])|         (1,[0],[1.0])|       (1,[0],[1.0])|       (1,[0],[1.0])|     (1,[],[])|          (1,[],[])|         (1,[0],[1.0])|         (1,[0],[1.0])|         (2,[0],[1.0])|         (3,[1],[1.0])|        (2,[1],[1.0])|(16,[2,3,4,7,8,9,...|  0.0|[3.0,6.0,0.0]|[0.33333333333333...|       1.0|\n",
            "|        (2,[],[])|         (1,[0],[1.0])|       (1,[0],[1.0])|       (1,[0],[1.0])|     (1,[],[])|      (1,[0],[1.0])|         (1,[0],[1.0])|             (1,[],[])|         (2,[0],[1.0])|             (3,[],[])|        (2,[1],[1.0])|(16,[2,3,4,6,7,9,...|  0.0|[3.0,6.0,0.0]|[0.33333333333333...|       1.0|\n",
            "+-----------------+----------------------+--------------------+--------------------+--------------+-------------------+----------------------+----------------------+----------------------+----------------------+---------------------+--------------------+-----+-------------+--------------------+----------+\n",
            "only showing top 3 rows\n",
            "\n"
          ]
        }
      ]
    },
    {
      "cell_type": "code",
      "source": [
        "from pyspark.ml.evaluation import MulticlassClassificationEvaluator\n",
        "from pyspark.ml.feature import VectorAssembler\n",
        "from sklearn.metrics import confusion_matrix\n",
        "from sklearn.datasets import load_iris"
      ],
      "metadata": {
        "id": "GpPCjqHg-DMs"
      },
      "execution_count": 48,
      "outputs": []
    },
    {
      "cell_type": "code",
      "source": [
        "\n",
        "# evaluator=MulticlassClassificationEvaluator(predictionCol=\"prediction\")\n",
        "# acc = evaluator.evaluate(pred)\n",
        " \n",
        "# print(\"Prediction Accuracy: \", acc)\n",
        " \n",
        "# y_pred=pred.select(\"prediction\").collect()\n",
        "# y_orig=pred.select(\"label\").collect()\n",
        "\n",
        "# cm = confusion_matrix(y_orig, y_pred)\n",
        "# print(\"Confusion Matrix:\")\n",
        "# print(cm)\n",
        " \n"
      ],
      "metadata": {
        "id": "1DSsWTyX9gRm"
      },
      "execution_count": null,
      "outputs": []
    },
    {
      "cell_type": "code",
      "source": [
        "print(dtc.toDebugString)"
      ],
      "metadata": {
        "colab": {
          "base_uri": "https://localhost:8080/"
        },
        "id": "vvp583H2El03",
        "outputId": "df0387e1-d23f-47f0-e96a-54b56efa78bc"
      },
      "execution_count": 76,
      "outputs": [
        {
          "output_type": "stream",
          "name": "stdout",
          "text": [
            "DecisionTreeClassificationModel: uid=DecisionTreeClassifier_21ea23b903f6, depth=5, numNodes=29, numClasses=3, numFeatures=16\n",
            "  If (feature 2 in {0.0})\n",
            "   If (feature 8 in {0.0})\n",
            "    If (feature 5 in {0.0})\n",
            "     Predict: 2.0\n",
            "    Else (feature 5 not in {0.0})\n",
            "     If (feature 1 in {0.0})\n",
            "      Predict: 0.0\n",
            "     Else (feature 1 not in {0.0})\n",
            "      If (feature 6 in {0.0})\n",
            "       Predict: 0.0\n",
            "      Else (feature 6 not in {0.0})\n",
            "       Predict: 1.0\n",
            "   Else (feature 8 not in {0.0})\n",
            "    If (feature 11 in {0.0})\n",
            "     If (feature 14 in {0.0})\n",
            "      If (feature 6 in {0.0})\n",
            "       Predict: 0.0\n",
            "      Else (feature 6 not in {0.0})\n",
            "       Predict: 1.0\n",
            "     Else (feature 14 not in {0.0})\n",
            "      Predict: 1.0\n",
            "    Else (feature 11 not in {0.0})\n",
            "     If (feature 1 in {0.0})\n",
            "      Predict: 1.0\n",
            "     Else (feature 1 not in {0.0})\n",
            "      Predict: 0.0\n",
            "  Else (feature 2 not in {0.0})\n",
            "   If (feature 11 in {0.0})\n",
            "    If (feature 7 in {0.0})\n",
            "     Predict: 1.0\n",
            "    Else (feature 7 not in {0.0})\n",
            "     If (feature 1 in {0.0})\n",
            "      If (feature 3 in {0.0})\n",
            "       Predict: 0.0\n",
            "      Else (feature 3 not in {0.0})\n",
            "       Predict: 1.0\n",
            "     Else (feature 1 not in {0.0})\n",
            "      Predict: 0.0\n",
            "   Else (feature 11 not in {0.0})\n",
            "    If (feature 7 in {0.0})\n",
            "     Predict: 2.0\n",
            "    Else (feature 7 not in {0.0})\n",
            "     Predict: 0.0\n",
            "\n"
          ]
        }
      ]
    },
    {
      "cell_type": "code",
      "source": [
        "def parse_debug_string_lines(lines):\n",
        "    \n",
        "    block = []\n",
        "    while lines:\n",
        "\n",
        "\n",
        "        if lines[0].startswith('If'):\n",
        "            bl = ' '.join(lines.pop(0).split()[1:]).replace('(', '').replace(')', '')\n",
        "            block.append({'name': bl, 'children': parse_debug_string_lines(lines)})\n",
        "\n",
        "\n",
        "            if lines[0].startswith('Else'):\n",
        "                be = ' '.join(lines.pop(0).split()[1:]).replace('(', '').replace(')', '')\n",
        "                block.append({'name': be, 'children': parse_debug_string_lines(lines)})\n",
        "        elif not lines[0].startswith(('If', 'Else')):\n",
        "            block2 = lines.pop(0)\n",
        "            block.append({'name': block2})\n",
        "        else:\n",
        "            break\n",
        "    \n",
        "    return block\n",
        "\n",
        "\n",
        "def debug_str_to_json(debug_string):\n",
        "    data = []\n",
        "    for line in debug_string.splitlines():\n",
        "        if line.strip():\n",
        "            line = line.strip()\n",
        "            data.append(line)\n",
        "        else:\n",
        "            break\n",
        "        if not line: break\n",
        "\n",
        "    json = {'name': 'Root', 'children': parse_debug_string_lines(data[1:])}\n",
        "    \n",
        "\n",
        "    return json"
      ],
      "metadata": {
        "id": "gc8yP-O3Fqxn"
      },
      "execution_count": 50,
      "outputs": []
    },
    {
      "cell_type": "code",
      "source": [
        "import json\n",
        "\n",
        "dict_tree_json = debug_str_to_json(dtc.toDebugString)\n",
        "\n",
        "print(json.dumps(dict_tree_json,indent = 1 ))\n"
      ],
      "metadata": {
        "colab": {
          "base_uri": "https://localhost:8080/"
        },
        "id": "zfoFXzjyFr17",
        "outputId": "c104064d-6f19-40b2-8db4-14c115e7d15f"
      },
      "execution_count": 51,
      "outputs": [
        {
          "output_type": "stream",
          "name": "stdout",
          "text": [
            "{\n",
            " \"name\": \"Root\",\n",
            " \"children\": [\n",
            "  {\n",
            "   \"name\": \"feature 14 in {0.0}\",\n",
            "   \"children\": [\n",
            "    {\n",
            "     \"name\": \"feature 8 in {0.0}\",\n",
            "     \"children\": [\n",
            "      {\n",
            "       \"name\": \"feature 5 in {0.0}\",\n",
            "       \"children\": [\n",
            "        {\n",
            "         \"name\": \"Predict: 2.0\"\n",
            "        }\n",
            "       ]\n",
            "      },\n",
            "      {\n",
            "       \"name\": \"feature 5 not in {0.0}\",\n",
            "       \"children\": [\n",
            "        {\n",
            "         \"name\": \"feature 1 in {0.0}\",\n",
            "         \"children\": [\n",
            "          {\n",
            "           \"name\": \"Predict: 0.0\"\n",
            "          }\n",
            "         ]\n",
            "        },\n",
            "        {\n",
            "         \"name\": \"feature 1 not in {0.0}\",\n",
            "         \"children\": [\n",
            "          {\n",
            "           \"name\": \"Predict: 1.0\"\n",
            "          }\n",
            "         ]\n",
            "        }\n",
            "       ]\n",
            "      }\n",
            "     ]\n",
            "    },\n",
            "    {\n",
            "     \"name\": \"feature 8 not in {0.0}\",\n",
            "     \"children\": [\n",
            "      {\n",
            "       \"name\": \"feature 24 in {0.0}\",\n",
            "       \"children\": [\n",
            "        {\n",
            "         \"name\": \"feature 15 in {0.0}\",\n",
            "         \"children\": [\n",
            "          {\n",
            "           \"name\": \"Predict: 1.0\"\n",
            "          }\n",
            "         ]\n",
            "        },\n",
            "        {\n",
            "         \"name\": \"feature 15 not in {0.0}\",\n",
            "         \"children\": [\n",
            "          {\n",
            "           \"name\": \"feature 17 in {0.0}\",\n",
            "           \"children\": [\n",
            "            {\n",
            "             \"name\": \"Predict: 0.0\"\n",
            "            }\n",
            "           ]\n",
            "          },\n",
            "          {\n",
            "           \"name\": \"feature 17 not in {0.0}\",\n",
            "           \"children\": [\n",
            "            {\n",
            "             \"name\": \"Predict: 1.0\"\n",
            "            }\n",
            "           ]\n",
            "          }\n",
            "         ]\n",
            "        }\n",
            "       ]\n",
            "      },\n",
            "      {\n",
            "       \"name\": \"feature 24 not in {0.0}\",\n",
            "       \"children\": [\n",
            "        {\n",
            "         \"name\": \"feature 2 in {0.0}\",\n",
            "         \"children\": [\n",
            "          {\n",
            "           \"name\": \"Predict: 1.0\"\n",
            "          }\n",
            "         ]\n",
            "        },\n",
            "        {\n",
            "         \"name\": \"feature 2 not in {0.0}\",\n",
            "         \"children\": [\n",
            "          {\n",
            "           \"name\": \"feature 19 in {0.0}\",\n",
            "           \"children\": [\n",
            "            {\n",
            "             \"name\": \"Predict: 1.0\"\n",
            "            }\n",
            "           ]\n",
            "          },\n",
            "          {\n",
            "           \"name\": \"feature 19 not in {0.0}\",\n",
            "           \"children\": [\n",
            "            {\n",
            "             \"name\": \"Predict: 0.0\"\n",
            "            }\n",
            "           ]\n",
            "          }\n",
            "         ]\n",
            "        }\n",
            "       ]\n",
            "      }\n",
            "     ]\n",
            "    }\n",
            "   ]\n",
            "  },\n",
            "  {\n",
            "   \"name\": \"feature 14 not in {0.0}\",\n",
            "   \"children\": [\n",
            "    {\n",
            "     \"name\": \"feature 2 in {0.0}\",\n",
            "     \"children\": [\n",
            "      {\n",
            "       \"name\": \"feature 9 in {0.0}\",\n",
            "       \"children\": [\n",
            "        {\n",
            "         \"name\": \"Predict: 0.0\"\n",
            "        }\n",
            "       ]\n",
            "      },\n",
            "      {\n",
            "       \"name\": \"feature 9 not in {0.0}\",\n",
            "       \"children\": [\n",
            "        {\n",
            "         \"name\": \"feature 13 in {0.0}\",\n",
            "         \"children\": [\n",
            "          {\n",
            "           \"name\": \"Predict: 0.0\"\n",
            "          }\n",
            "         ]\n",
            "        },\n",
            "        {\n",
            "         \"name\": \"feature 13 not in {0.0}\",\n",
            "         \"children\": [\n",
            "          {\n",
            "           \"name\": \"Predict: 1.0\"\n",
            "          }\n",
            "         ]\n",
            "        }\n",
            "       ]\n",
            "      }\n",
            "     ]\n",
            "    },\n",
            "    {\n",
            "     \"name\": \"feature 2 not in {0.0}\",\n",
            "     \"children\": [\n",
            "      {\n",
            "       \"name\": \"feature 22 in {0.0}\",\n",
            "       \"children\": [\n",
            "        {\n",
            "         \"name\": \"feature 17 in {0.0}\",\n",
            "         \"children\": [\n",
            "          {\n",
            "           \"name\": \"Predict: 0.0\"\n",
            "          }\n",
            "         ]\n",
            "        },\n",
            "        {\n",
            "         \"name\": \"feature 17 not in {0.0}\",\n",
            "         \"children\": [\n",
            "          {\n",
            "           \"name\": \"feature 3 in {0.0}\",\n",
            "           \"children\": [\n",
            "            {\n",
            "             \"name\": \"Predict: 0.0\"\n",
            "            }\n",
            "           ]\n",
            "          },\n",
            "          {\n",
            "           \"name\": \"feature 3 not in {0.0}\",\n",
            "           \"children\": [\n",
            "            {\n",
            "             \"name\": \"Predict: 1.0\"\n",
            "            }\n",
            "           ]\n",
            "          }\n",
            "         ]\n",
            "        }\n",
            "       ]\n",
            "      },\n",
            "      {\n",
            "       \"name\": \"feature 22 not in {0.0}\",\n",
            "       \"children\": [\n",
            "        {\n",
            "         \"name\": \"Predict: 1.0\"\n",
            "        }\n",
            "       ]\n",
            "      }\n",
            "     ]\n",
            "    }\n",
            "   ]\n",
            "  }\n",
            " ]\n",
            "}\n"
          ]
        }
      ]
    },
    {
      "cell_type": "code",
      "source": [
        "f_type_to_flist_dict = data_df.schema['features'].metadata[\"ml_attr\"][\"attrs\"]\n",
        "\n",
        "f_index_to_name_dict = {}\n",
        "\n",
        "for f_type, f_list in f_type_to_flist_dict.items():\n",
        "\n",
        "\n",
        "\n",
        "\n",
        "  for f in f_list:\n",
        "\n",
        "    f_index = f['idx']\n",
        "\n",
        "    f_name = f['name']\n",
        "\n",
        "    f_index_to_name_dict[f_index] = f_name\n",
        "\n",
        "\n",
        "\n",
        "\n",
        "print(f_index_to_name_dict)\n",
        "\n"
      ],
      "metadata": {
        "colab": {
          "base_uri": "https://localhost:8080/"
        },
        "id": "UFXF7GGcGIf9",
        "outputId": "4baf9085-e584-4595-e695-5584da08c6a5"
      },
      "execution_count": 52,
      "outputs": [
        {
          "output_type": "stream",
          "name": "stdout",
          "text": [
            "{0: 'onehot_lymphatics_arched', 1: 'onehot_lymphatics_deformed', 2: 'onehot_block_of_affere_yes', 3: 'onehot_bl_of_lymph_c_no', 4: 'onehot_bl_of_lymph_s_no', 5: 'onehot_by_pass_no', 6: 'onehot_extravasates_yes', 7: 'onehot_regeneration_of_no', 8: 'onehot_early_uptake_in_yes', 9: 'onehot_changes_in_lym_oval', 10: 'onehot_changes_in_lym_round', 11: 'onehot_defect_in_node_lac_central', 12: 'onehot_defect_in_node_lacunar', 13: 'onehot_defect_in_node_lac_margin', 14: 'onehot_changes_in_node_lac_margin', 15: 'onehot_changes_in_node_lacunar', 16: 'onehot_changes_in_node_lac_central', 17: 'onehot_changes_in_stru_faint', 18: 'onehot_changes_in_stru_coarse', 19: 'onehot_changes_in_stru_diluted', 20: 'onehot_changes_in_stru_drop_like', 21: 'onehot_changes_in_stru_grainy', 22: 'onehot_changes_in_stru_stripped', 23: 'onehot_changes_in_stru_reticular', 24: 'onehot_special_forms_vesicles', 25: 'onehot_special_forms_chalices', 26: 'onehot_dislocation_of_yes', 27: 'onehot_exclusion_of_no_yes'}\n"
          ]
        }
      ]
    }
  ]
}